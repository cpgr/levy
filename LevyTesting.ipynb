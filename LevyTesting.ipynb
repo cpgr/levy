{
 "cells": [
  {
   "cell_type": "markdown",
   "metadata": {},
   "source": [
    "## Test sampling from Levy stable distribution\n",
    "\n",
    "Verify that random samples from the Levy stable distribution calculated using `levy()` correctly."
   ]
  },
  {
   "cell_type": "code",
   "execution_count": 1,
   "metadata": {
    "collapsed": true
   },
   "outputs": [],
   "source": [
    "import numpy as np\n",
    "import levy\n",
    "from scipy.integrate import quad\n",
    "import matplotlib.pyplot as plt\n",
    "%matplotlib inline"
   ]
  },
  {
   "cell_type": "markdown",
   "metadata": {},
   "source": [
    "Test the functions by recreating the data in Table 1 from Mantegna (1994)"
   ]
  },
  {
   "cell_type": "code",
   "execution_count": 2,
   "metadata": {},
   "outputs": [
    {
     "name": "stdout",
     "output_type": "stream",
     "text": [
      "alpha  sigmax     K       C\n",
      "0.80   1.13999  0.7951  2.4830\n",
      "0.90   1.06618  0.8994  2.7675\n",
      "1.00   1.00000  1.0000  2.8562\n",
      "1.10   0.93829  1.1006  2.9450\n",
      "1.20   0.87883  1.2052  2.9410\n",
      "1.30   0.81984  1.3184  2.9005\n",
      "1.40   0.75968  1.4465  2.8315\n",
      "1.50   0.69657  1.5992  2.7370\n",
      "1.60   0.62823  1.7936  2.6125\n",
      "1.70   0.55113  2.0645  2.4465\n",
      "1.80   0.45864  2.5015  2.2060\n",
      "1.90   0.33382  3.4615  1.7915\n",
      "1.95   0.24118  4.8066  1.3925\n",
      "1.99   0.11069  10.4980  0.6089\n"
     ]
    }
   ],
   "source": [
    "alpha = np.array((0.8, 0.9, 1.0, 1.1, 1.2, 1.3, 1.4, 1.5, 1.6, 1.7, 1.8, 1.9, 1.95, 1.99))\n",
    "\n",
    "print 'alpha  sigmax     K       C'\n",
    "for i in alpha:\n",
    "    print '%-1.2f   %-1.5f  %-1.4f  %-1.4f' % (i, levy.sigmax(i), levy.K(i), levy.C(i))"
   ]
  },
  {
   "cell_type": "markdown",
   "metadata": {},
   "source": [
    "Verify that the Levy random numbers give the correct Levy stable probability density function"
   ]
  },
  {
   "cell_type": "code",
   "execution_count": 3,
   "metadata": {},
   "outputs": [],
   "source": [
    "# Levy probability density function by numerical integration\n",
    "def L(z, alpha, gamma=1):\n",
    "    \n",
    "    f = lambda q : 1.0 / np.pi * np.exp(- gamma * np.power(q, alpha)) * np.cos(q * z)\n",
    "\n",
    "    integral, err = quad(f, 0, np.inf)\n",
    "    return integral"
   ]
  },
  {
   "cell_type": "markdown",
   "metadata": {},
   "source": [
    "Random samples calculated by levy()"
   ]
  },
  {
   "cell_type": "code",
   "execution_count": 4,
   "metadata": {},
   "outputs": [],
   "source": [
    "alpha = 1.1\n",
    "n = int(1e6)\n",
    "data = np.zeros(n)\n",
    "\n",
    "for i in range(0,n):\n",
    "    data[i] = levy.levy(alpha)"
   ]
  },
  {
   "cell_type": "markdown",
   "metadata": {},
   "source": [
    "Levy stable pdf calculated by numerical integration"
   ]
  },
  {
   "cell_type": "code",
   "execution_count": 5,
   "metadata": {},
   "outputs": [],
   "source": [
    "x = np.arange(-10,10,0.1)\n",
    "y = np.zeros(x.size)\n",
    "\n",
    "for i in range(0, x.size):\n",
    "    y[i] = L(x[i], 1.5)"
   ]
  },
  {
   "cell_type": "code",
   "execution_count": 6,
   "metadata": {},
   "outputs": [
    {
     "data": {
      "text/plain": [
       "[<matplotlib.lines.Line2D at 0x10eb3de10>]"
      ]
     },
     "execution_count": 6,
     "metadata": {},
     "output_type": "execute_result"
    },
    {
     "data": {
      "image/png": "[encoded data removed]",
      "text/plain": [
       "<matplotlib.figure.Figure at 0x10eb3d750>"
      ]
     },
     "metadata": {},
     "output_type": "display_data"
    }
   ],
   "source": [
    "bins = np.arange(-10,10,0.1);\n",
    "hist, bin_edges = np.histogram(data, bins, normed=True)\n",
    "\n",
    "plt.plot(bin_edges[0:len(hist)], hist, 'o');\n",
    "plt.plot(x,y)"
   ]
  }
 ],
 "metadata": {
  "kernelspec": {
   "display_name": "Python 2",
   "language": "python",
   "name": "python2"
  },
  "language_info": {
   "codemirror_mode": {
    "name": "ipython",
    "version": 2
   },
   "file_extension": ".py",
   "mimetype": "text/x-python",
   "name": "python",
   "nbconvert_exporter": "python",
   "pygments_lexer": "ipython2",
   "version": "2.7.13"
  }
 },
 "nbformat": 4,
 "nbformat_minor": 2
}
